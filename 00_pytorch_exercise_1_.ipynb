{
 "cells": [
  {
   "cell_type": "code",
   "execution_count": 1,
   "metadata": {},
   "outputs": [],
   "source": [
    "import torch\n",
    "import numpy as np\n",
    "import matplotlib.pyplot as plt\n"
   ]
  },
  {
   "cell_type": "code",
   "execution_count": 4,
   "metadata": {},
   "outputs": [
    {
     "name": "stdout",
     "output_type": "stream",
     "text": [
      "Tensor is: tensor([[0.3991, 0.4442, 0.3896, 0.8731, 0.1819, 0.0798, 0.1878],\n",
      "        [0.3056, 0.2022, 0.1673, 0.2421, 0.3207, 0.8577, 0.9456],\n",
      "        [0.7210, 0.5306, 0.0310, 0.0372, 0.8805, 0.0433, 0.8992],\n",
      "        [0.8113, 0.6936, 0.7212, 0.7045, 0.0859, 0.1616, 0.4666],\n",
      "        [0.9797, 0.8461, 0.1756, 0.4903, 0.5523, 0.9025, 0.6291],\n",
      "        [0.0375, 0.8738, 0.3028, 0.4152, 0.0820, 0.7396, 0.9907],\n",
      "        [0.9429, 0.8032, 0.1727, 0.4342, 0.6693, 0.5441, 0.1814]])\n",
      "Shape is: torch.Size([7, 7])\n"
     ]
    }
   ],
   "source": [
    "# Creating a tensor of shape (7,7)\n",
    "tensor=torch.rand(7,7)\n",
    "print(f\"Tensor is: {tensor}\")\n",
    "print(f\"Shape is: {tensor.shape}\")\n"
   ]
  },
  {
   "cell_type": "code",
   "execution_count": null,
   "metadata": {},
   "outputs": [],
   "source": []
  }
 ],
 "metadata": {
  "kernelspec": {
   "display_name": "Python 3",
   "language": "python",
   "name": "python3"
  },
  "language_info": {
   "codemirror_mode": {
    "name": "ipython",
    "version": 3
   },
   "file_extension": ".py",
   "mimetype": "text/x-python",
   "name": "python",
   "nbconvert_exporter": "python",
   "pygments_lexer": "ipython3",
   "version": "3.10.13"
  }
 },
 "nbformat": 4,
 "nbformat_minor": 2
}
