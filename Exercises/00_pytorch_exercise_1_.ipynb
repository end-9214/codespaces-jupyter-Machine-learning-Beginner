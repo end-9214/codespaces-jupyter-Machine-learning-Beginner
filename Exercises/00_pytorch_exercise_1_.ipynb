{
 "cells": [
  {
   "cell_type": "code",
   "execution_count": 2,
   "metadata": {},
   "outputs": [],
   "source": [
    "import torch\n",
    "import numpy as np\n",
    "import matplotlib.pyplot as plt\n"
   ]
  },
  {
   "cell_type": "code",
   "execution_count": 3,
   "metadata": {},
   "outputs": [
    {
     "name": "stdout",
     "output_type": "stream",
     "text": [
      "Tensor is: tensor([[0.0374, 0.8973, 0.5702, 0.6001, 0.7391, 0.3290, 0.3983],\n",
      "        [0.2572, 0.9832, 0.0064, 0.2063, 0.5756, 0.4155, 0.2539],\n",
      "        [0.4606, 0.0211, 0.4683, 0.8111, 0.9420, 0.2459, 0.1096],\n",
      "        [0.9890, 0.0535, 0.3132, 0.9963, 0.1124, 0.5415, 0.4220],\n",
      "        [0.8974, 0.9892, 0.9350, 0.5015, 0.5037, 0.9119, 0.1030],\n",
      "        [0.2499, 0.3508, 0.9713, 0.3811, 0.8939, 0.5400, 0.8171],\n",
      "        [0.5947, 0.0369, 0.7949, 0.4427, 0.1616, 0.1306, 0.3987]])\n",
      "Shape is: torch.Size([7, 7])\n"
     ]
    }
   ],
   "source": [
    "# Creating a tensor of shape (7,7)\n",
    "tensor=torch.rand(7,7)\n",
    "print(f\"Tensor is: {tensor}\")\n",
    "print(f\"Shape is: {tensor.shape}\")\n"
   ]
  },
  {
   "cell_type": "markdown",
   "metadata": {},
   "source": [
    "Matrix multiplication\n"
   ]
  },
  {
   "cell_type": "code",
   "execution_count": 6,
   "metadata": {},
   "outputs": [
    {
     "name": "stdout",
     "output_type": "stream",
     "text": [
      " matrix multiplication: tensor([[ 50,  68],\n",
      "        [122, 167]])\n"
     ]
    }
   ],
   "source": [
    "tensor1 = torch.tensor([[1,2,3],\n",
    "                        [4,5,6]])\n",
    "tensor2 = torch.tensor([[7,8,9],\n",
    "                        [10,11,12]])\n",
    "\n",
    "# Matmul\n",
    "\n",
    "print(f\" matrix multiplication: {torch.matmul(tensor1,tensor2.T)}\")"
   ]
  },
  {
   "cell_type": "code",
   "execution_count": 14,
   "metadata": {},
   "outputs": [
    {
     "name": "stdout",
     "output_type": "stream",
     "text": [
      "tensor1: tensor([[0.6367, 0.7068, 0.8374, 0.4268, 0.2429, 0.9058, 0.7294]])\n",
      "tensor2: tensor([[0.9360, 0.3441, 0.6254, 0.9078, 0.8727, 0.1098, 0.0299],\n",
      "        [0.8530, 0.8717, 0.4607, 0.9796, 0.4121, 0.1480, 0.5309]])\n",
      "tensor matmul: tensor([[2.0837, 2.5846]])\n"
     ]
    }
   ],
   "source": [
    "tensor1 = torch.rand(1,7)\n",
    "tensor2 = torch.rand(2,7)\n",
    "print(f\"tensor1: {tensor1}\")\n",
    "print(f\"tensor2: {tensor2}\")\n",
    "print(f\"tensor matmul: {torch.matmul(tensor1,tensor2.T)}\")"
   ]
  },
  {
   "cell_type": "code",
   "execution_count": 15,
   "metadata": {},
   "outputs": [
    {
     "name": "stdout",
     "output_type": "stream",
     "text": [
      "tensor1: tensor([[0.4963, 0.7682, 0.0885, 0.1320, 0.3074, 0.6341, 0.4901],\n",
      "        [0.8964, 0.4556, 0.6323, 0.3489, 0.4017, 0.0223, 0.1689],\n",
      "        [0.2939, 0.5185, 0.6977, 0.8000, 0.1610, 0.2823, 0.6816],\n",
      "        [0.9152, 0.3971, 0.8742, 0.4194, 0.5529, 0.9527, 0.0362],\n",
      "        [0.1852, 0.3734, 0.3051, 0.9320, 0.1759, 0.2698, 0.1507],\n",
      "        [0.0317, 0.2081, 0.9298, 0.7231, 0.7423, 0.5263, 0.2437],\n",
      "        [0.5846, 0.0332, 0.1387, 0.2422, 0.8155, 0.7932, 0.2783]])\n",
      "tensor2: tensor([[0.4820, 0.8198, 0.9971, 0.6984, 0.5675, 0.8352, 0.2056]])\n",
      "tensor matmul: tensor([[1.8542],\n",
      "        [1.9611],\n",
      "        [2.2884],\n",
      "        [3.0481],\n",
      "        [1.7067],\n",
      "        [2.5290],\n",
      "        [1.7989]])\n"
     ]
    }
   ],
   "source": [
    "torch.manual_seed(0)\n",
    "tensor1=torch.rand(7,7)\n",
    "tensor2=torch.rand(1,7)\n",
    "\n",
    "print(f\"tensor1: {tensor1}\")\n",
    "print(f\"tensor2: {tensor2}\")\n",
    "\n",
    "print(f\"tensor matmul: {torch.matmul(tensor1,tensor2.T)}\")\n"
   ]
  },
  {
   "cell_type": "code",
   "execution_count": 19,
   "metadata": {},
   "outputs": [
    {
     "name": "stdout",
     "output_type": "stream",
     "text": [
      "max values:  tensor(0.9527)\n",
      "min values:  tensor(0.0223)\n"
     ]
    }
   ],
   "source": [
    "print(\"max values: \",torch.max(tensor1))\n",
    "print(\"min values: \",torch.min(tensor1))"
   ]
  },
  {
   "cell_type": "code",
   "execution_count": 25,
   "metadata": {},
   "outputs": [
    {
     "name": "stdout",
     "output_type": "stream",
     "text": [
      "random tensor: tensor([[[[0.5349, 0.1988, 0.6592, 0.6569, 0.2328, 0.4251, 0.2071, 0.6297,\n",
      "           0.3653, 0.8513]]]]) Shape: torch.Size([1, 1, 1, 10])\n",
      "tensor_dim1: tensor([0.5349, 0.1988, 0.6592, 0.6569, 0.2328, 0.4251, 0.2071, 0.6297, 0.3653,\n",
      "        0.8513]) Shape: torch.Size([10])\n"
     ]
    }
   ],
   "source": [
    "torch.manual_seed(7)\n",
    "\n",
    "random_tensor = torch.rand(1,1,1,10)\n",
    "print(f\"random tensor: {random_tensor} Shape: {random_tensor.shape}\")\n",
    "\n",
    "tensor_dim1 = random_tensor.squeeze()\n",
    "print(f\"tensor_dim1: {tensor_dim1} Shape: {tensor_dim1.shape}\")"
   ]
  },
  {
   "cell_type": "code",
   "execution_count": null,
   "metadata": {},
   "outputs": [],
   "source": []
  }
 ],
 "metadata": {
  "kernelspec": {
   "display_name": "Python 3",
   "language": "python",
   "name": "python3"
  },
  "language_info": {
   "codemirror_mode": {
    "name": "ipython",
    "version": 3
   },
   "file_extension": ".py",
   "mimetype": "text/x-python",
   "name": "python",
   "nbconvert_exporter": "python",
   "pygments_lexer": "ipython3",
   "version": "3.10.13"
  }
 },
 "nbformat": 4,
 "nbformat_minor": 2
}
