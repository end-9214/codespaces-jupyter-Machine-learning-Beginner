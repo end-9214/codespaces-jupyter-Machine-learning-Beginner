{
 "cells": [
  {
   "cell_type": "markdown",
   "metadata": {},
   "source": [
    "# 04. PyTorch Custom Datasets Notebook\n",
    "\n",
    "We've used some datasets with PyTorch before.\n",
    "\n",
    "But how do you get your own data into PyTorch?\n",
    "\n",
    "One of the ways to do so is via: custom datasets.\n",
    "\n",
    "## Domain libraries\n",
    "\n",
    "Depending on what you're working on, vision, text, audio, recommendation, you'll want to look into each of the PyTorch domain librarires for existing data loading functions and customizable data loading functions."
   ]
  },
  {
   "cell_type": "markdown",
   "metadata": {},
   "source": [
    "## 0. Importing PyTorch and setting up device-agnostic code\n"
   ]
  },
  {
   "cell_type": "code",
   "execution_count": 1,
   "metadata": {},
   "outputs": [
    {
     "data": {
      "text/plain": [
       "'2.1.2+cpu'"
      ]
     },
     "execution_count": 1,
     "metadata": {},
     "output_type": "execute_result"
    }
   ],
   "source": [
    "import torch\n",
    "from torch import nn\n",
    "\n",
    "# Note: PyTorch 1.10.0+ is required for this course\n",
    "torch.__version__"
   ]
  },
  {
   "cell_type": "code",
   "execution_count": 2,
   "metadata": {},
   "outputs": [
    {
     "data": {
      "text/plain": [
       "'cpu'"
      ]
     },
     "execution_count": 2,
     "metadata": {},
     "output_type": "execute_result"
    }
   ],
   "source": [
    "# setup device-agnostic code\n",
    "device = \"cude\" if torch.cuda.is_available() else \"cpu\"\n",
    "device"
   ]
  },
  {
   "cell_type": "code",
   "execution_count": 3,
   "metadata": {},
   "outputs": [
    {
     "name": "stderr",
     "output_type": "stream",
     "text": [
      "'nvidia-smi' is not recognized as an internal or external command,\n",
      "operable program or batch file.\n"
     ]
    }
   ],
   "source": [
    "!nvidia-smi"
   ]
  },
  {
   "cell_type": "markdown",
   "metadata": {},
   "source": [
    "## 1. Get data\n",
    "\n",
    "Our dataset is a sbuset of Food101 dataset.\n",
    "\n",
    "Food101 starts 101 different classes of food and 1000 images per class (750 training, 250 testing).\n",
    "\n",
    "Our dataset starts with 3 classes of food and only 10% of the images (~75 training, 25 testing).\n",
    "\n",
    "Why do this?\n",
    "\n",
    "When starting our ML projects, it's important to try things on a small scale when necessary.\n",
    "\n",
    "The whole point is to speed up how fast you can experiment."
   ]
  },
  {
   "cell_type": "code",
   "execution_count": 14,
   "metadata": {},
   "outputs": [
    {
     "name": "stdout",
     "output_type": "stream",
     "text": [
      "data\\pizza_steak_sushi directory does not exist, downloading and unzipping\n",
      "Downloading pizza, steak,sushi data...\n",
      "Unzipping...\n"
     ]
    }
   ],
   "source": [
    "import requests\n",
    "import zipfile\n",
    "from pathlib import Path\n",
    "\n",
    "#setup path to a data folder\n",
    "data_path = Path(\"data/\")\n",
    "image_path = data_path / \"pizza_steak_sushi\"\n",
    "\n",
    "# if the image doesn't exist, download it and prepare it...\n",
    "if image_path.is_dir():\n",
    "  print(f\"{image_path} directory already exists, skipping download\")\n",
    "else:\n",
    "  print(f\"{image_path} directory does not exist, downloading and unzipping\")\n",
    "  image_path.mkdir(parents=True, exist_ok=True)\n",
    "\n",
    "# download data\n",
    "  with open(data_path/\"pizza_steak_sushi.zip\", \"wb\") as f:\n",
    "    request = requests.get(\"https://github.com/mrdbourke/pytorch-deep-learning/raw/main/data/pizza_steak_sushi.zip\")\n",
    "    print(\"Downloading pizza, steak,sushi data...\")\n",
    "    f.write(request.content)\n",
    "\n",
    "# unzip data\n",
    "with zipfile.ZipFile(data_path/\"pizza_steak_sushi.zip\", \"r\") as zip_ref:\n",
    "  print(\"Unzipping...\")\n",
    "  zip_ref.extractall(image_path)\n"
   ]
  },
  {
   "cell_type": "code",
   "execution_count": 8,
   "metadata": {},
   "outputs": [
    {
     "data": {
      "text/plain": [
       "WindowsPath('data/pizza_steak_sushi')"
      ]
     },
     "execution_count": 8,
     "metadata": {},
     "output_type": "execute_result"
    }
   ],
   "source": [
    "image_path"
   ]
  },
  {
   "cell_type": "markdown",
   "metadata": {},
   "source": [
    "## 2. Becoming one with the data (data preparation and data exploration)"
   ]
  },
  {
   "cell_type": "code",
   "execution_count": 15,
   "metadata": {},
   "outputs": [],
   "source": [
    "import os\n",
    "def walk_thorugh_dir(dir_path):\n",
    "  \"\"\" Walks through dir_path returning its contents\"\"\"\n",
    "  for dirpath, dirnames, filenames in os.walk(dir_path):\n",
    "    print(f\"There are {len(dirnames)} directories and {len(filenames)} images in '{dirpath}'.\")"
   ]
  },
  {
   "cell_type": "code",
   "execution_count": 16,
   "metadata": {},
   "outputs": [
    {
     "name": "stdout",
     "output_type": "stream",
     "text": [
      "There are 2 directories and 0 images in 'data\\pizza_steak_sushi'.\n",
      "There are 3 directories and 0 images in 'data\\pizza_steak_sushi\\test'.\n",
      "There are 0 directories and 25 images in 'data\\pizza_steak_sushi\\test\\pizza'.\n",
      "There are 0 directories and 19 images in 'data\\pizza_steak_sushi\\test\\steak'.\n",
      "There are 0 directories and 31 images in 'data\\pizza_steak_sushi\\test\\sushi'.\n",
      "There are 3 directories and 0 images in 'data\\pizza_steak_sushi\\train'.\n",
      "There are 0 directories and 78 images in 'data\\pizza_steak_sushi\\train\\pizza'.\n",
      "There are 0 directories and 75 images in 'data\\pizza_steak_sushi\\train\\steak'.\n",
      "There are 0 directories and 72 images in 'data\\pizza_steak_sushi\\train\\sushi'.\n"
     ]
    }
   ],
   "source": [
    "walk_thorugh_dir(image_path)"
   ]
  },
  {
   "cell_type": "code",
   "execution_count": 17,
   "metadata": {},
   "outputs": [
    {
     "data": {
      "text/plain": [
       "(WindowsPath('data/pizza_steak_sushi/train'),\n",
       " WindowsPath('data/pizza_steak_sushi/test'))"
      ]
     },
     "execution_count": 17,
     "metadata": {},
     "output_type": "execute_result"
    }
   ],
   "source": [
    "# Setup training and test data directories (paths)\n",
    "train_dir = image_path / \"train\"\n",
    "test_dir = image_path / \"test\"\n",
    "\n",
    "train_dir, test_dir"
   ]
  },
  {
   "cell_type": "markdown",
   "metadata": {},
   "source": [
    "### 2. Visualizing and image\n",
    "\n",
    "Let's write some code to:\n",
    "1. Get all of the image paths\n",
    "2. Pick a random image path using Python's `random.choice()`\n",
    "3. Get the image class name using `pathlib.Path.parent.stem`\n",
    "4. Since we're working with images, let's open the image with Python's `PIL`\n",
    "5. We'll then show the image and print the metadata"
   ]
  },
  {
   "cell_type": "code",
   "execution_count": 19,
   "metadata": {},
   "outputs": [
    {
     "data": {
      "text/plain": [
       "[WindowsPath('data/pizza_steak_sushi/test/pizza/1152100.jpg'),\n",
       " WindowsPath('data/pizza_steak_sushi/test/pizza/1503858.jpg'),\n",
       " WindowsPath('data/pizza_steak_sushi/test/pizza/1687143.jpg'),\n",
       " WindowsPath('data/pizza_steak_sushi/test/pizza/1925494.jpg'),\n",
       " WindowsPath('data/pizza_steak_sushi/test/pizza/194643.jpg'),\n",
       " WindowsPath('data/pizza_steak_sushi/test/pizza/195160.jpg'),\n",
       " WindowsPath('data/pizza_steak_sushi/test/pizza/2003290.jpg'),\n",
       " WindowsPath('data/pizza_steak_sushi/test/pizza/2019408.jpg'),\n",
       " WindowsPath('data/pizza_steak_sushi/test/pizza/2111981.jpg'),\n",
       " WindowsPath('data/pizza_steak_sushi/test/pizza/2124579.jpg'),\n",
       " WindowsPath('data/pizza_steak_sushi/test/pizza/2218680.jpg'),\n",
       " WindowsPath('data/pizza_steak_sushi/test/pizza/2236338.jpg'),\n",
       " WindowsPath('data/pizza_steak_sushi/test/pizza/2508636.jpg'),\n",
       " WindowsPath('data/pizza_steak_sushi/test/pizza/2871261.jpg'),\n",
       " WindowsPath('data/pizza_steak_sushi/test/pizza/3092704.jpg'),\n",
       " WindowsPath('data/pizza_steak_sushi/test/pizza/309892.jpg'),\n",
       " WindowsPath('data/pizza_steak_sushi/test/pizza/344397.jpg'),\n",
       " WindowsPath('data/pizza_steak_sushi/test/pizza/3475871.jpg'),\n",
       " WindowsPath('data/pizza_steak_sushi/test/pizza/398345.jpg'),\n",
       " WindowsPath('data/pizza_steak_sushi/test/pizza/416067.jpg'),\n",
       " WindowsPath('data/pizza_steak_sushi/test/pizza/540882.jpg'),\n",
       " WindowsPath('data/pizza_steak_sushi/test/pizza/648055.jpg'),\n",
       " WindowsPath('data/pizza_steak_sushi/test/pizza/714866.jpg'),\n",
       " WindowsPath('data/pizza_steak_sushi/test/pizza/930553.jpg'),\n",
       " WindowsPath('data/pizza_steak_sushi/test/pizza/971934.jpg'),\n",
       " WindowsPath('data/pizza_steak_sushi/test/steak/100274.jpg'),\n",
       " WindowsPath('data/pizza_steak_sushi/test/steak/1016217.jpg'),\n",
       " WindowsPath('data/pizza_steak_sushi/test/steak/1285886.jpg'),\n",
       " WindowsPath('data/pizza_steak_sushi/test/steak/1302563.jpg'),\n",
       " WindowsPath('data/pizza_steak_sushi/test/steak/1627703.jpg'),\n",
       " WindowsPath('data/pizza_steak_sushi/test/steak/1868005.jpg'),\n",
       " WindowsPath('data/pizza_steak_sushi/test/steak/1882831.jpg'),\n",
       " WindowsPath('data/pizza_steak_sushi/test/steak/2117351.jpg'),\n",
       " WindowsPath('data/pizza_steak_sushi/test/steak/2144308.jpg'),\n",
       " WindowsPath('data/pizza_steak_sushi/test/steak/27415.jpg'),\n",
       " WindowsPath('data/pizza_steak_sushi/test/steak/296375.jpg'),\n",
       " WindowsPath('data/pizza_steak_sushi/test/steak/3424937.jpg'),\n",
       " WindowsPath('data/pizza_steak_sushi/test/steak/354513.jpg'),\n",
       " WindowsPath('data/pizza_steak_sushi/test/steak/3873283.jpg'),\n",
       " WindowsPath('data/pizza_steak_sushi/test/steak/502076.jpg'),\n",
       " WindowsPath('data/pizza_steak_sushi/test/steak/673127.jpg'),\n",
       " WindowsPath('data/pizza_steak_sushi/test/steak/690177.jpg'),\n",
       " WindowsPath('data/pizza_steak_sushi/test/steak/894825.jpg'),\n",
       " WindowsPath('data/pizza_steak_sushi/test/steak/966174.jpg'),\n",
       " WindowsPath('data/pizza_steak_sushi/test/sushi/1172255.jpg'),\n",
       " WindowsPath('data/pizza_steak_sushi/test/sushi/1230335.jpg'),\n",
       " WindowsPath('data/pizza_steak_sushi/test/sushi/1245193.jpg'),\n",
       " WindowsPath('data/pizza_steak_sushi/test/sushi/1434806.jpg'),\n",
       " WindowsPath('data/pizza_steak_sushi/test/sushi/1600999.jpg'),\n",
       " WindowsPath('data/pizza_steak_sushi/test/sushi/1680893.jpg'),\n",
       " WindowsPath('data/pizza_steak_sushi/test/sushi/1742201.jpg'),\n",
       " WindowsPath('data/pizza_steak_sushi/test/sushi/175783.jpg'),\n",
       " WindowsPath('data/pizza_steak_sushi/test/sushi/1987407.jpg'),\n",
       " WindowsPath('data/pizza_steak_sushi/test/sushi/207578.jpg'),\n",
       " WindowsPath('data/pizza_steak_sushi/test/sushi/2190404.jpg'),\n",
       " WindowsPath('data/pizza_steak_sushi/test/sushi/2276986.jpg'),\n",
       " WindowsPath('data/pizza_steak_sushi/test/sushi/2385731.jpg'),\n",
       " WindowsPath('data/pizza_steak_sushi/test/sushi/2394442.jpg'),\n",
       " WindowsPath('data/pizza_steak_sushi/test/sushi/2521706.jpg'),\n",
       " WindowsPath('data/pizza_steak_sushi/test/sushi/2540511.jpg'),\n",
       " WindowsPath('data/pizza_steak_sushi/test/sushi/2715127.jpg'),\n",
       " WindowsPath('data/pizza_steak_sushi/test/sushi/2741434.jpg'),\n",
       " WindowsPath('data/pizza_steak_sushi/test/sushi/3177743.jpg'),\n",
       " WindowsPath('data/pizza_steak_sushi/test/sushi/3196729.jpg'),\n",
       " WindowsPath('data/pizza_steak_sushi/test/sushi/343036.jpg'),\n",
       " WindowsPath('data/pizza_steak_sushi/test/sushi/3806282.jpg'),\n",
       " WindowsPath('data/pizza_steak_sushi/test/sushi/3837522.jpg'),\n",
       " WindowsPath('data/pizza_steak_sushi/test/sushi/46797.jpg'),\n",
       " WindowsPath('data/pizza_steak_sushi/test/sushi/479711.jpg'),\n",
       " WindowsPath('data/pizza_steak_sushi/test/sushi/499605.jpg'),\n",
       " WindowsPath('data/pizza_steak_sushi/test/sushi/684266.jpg'),\n",
       " WindowsPath('data/pizza_steak_sushi/test/sushi/719108.jpg'),\n",
       " WindowsPath('data/pizza_steak_sushi/test/sushi/858157.jpg'),\n",
       " WindowsPath('data/pizza_steak_sushi/test/sushi/887831.jpg'),\n",
       " WindowsPath('data/pizza_steak_sushi/test/sushi/988559.jpg'),\n",
       " WindowsPath('data/pizza_steak_sushi/train/pizza/1008844.jpg'),\n",
       " WindowsPath('data/pizza_steak_sushi/train/pizza/1033251.jpg'),\n",
       " WindowsPath('data/pizza_steak_sushi/train/pizza/1044789.jpg'),\n",
       " WindowsPath('data/pizza_steak_sushi/train/pizza/1089334.jpg'),\n",
       " WindowsPath('data/pizza_steak_sushi/train/pizza/1105700.jpg'),\n",
       " WindowsPath('data/pizza_steak_sushi/train/pizza/12301.jpg'),\n",
       " WindowsPath('data/pizza_steak_sushi/train/pizza/1285298.jpg'),\n",
       " WindowsPath('data/pizza_steak_sushi/train/pizza/138855.jpg'),\n",
       " WindowsPath('data/pizza_steak_sushi/train/pizza/1412034.jpg'),\n",
       " WindowsPath('data/pizza_steak_sushi/train/pizza/1524655.jpg'),\n",
       " WindowsPath('data/pizza_steak_sushi/train/pizza/1572608.jpg'),\n",
       " WindowsPath('data/pizza_steak_sushi/train/pizza/1633289.jpg'),\n",
       " WindowsPath('data/pizza_steak_sushi/train/pizza/1649276.jpg'),\n",
       " WindowsPath('data/pizza_steak_sushi/train/pizza/1654444.jpg'),\n",
       " WindowsPath('data/pizza_steak_sushi/train/pizza/1660415.jpg'),\n",
       " WindowsPath('data/pizza_steak_sushi/train/pizza/1899785.jpg'),\n",
       " WindowsPath('data/pizza_steak_sushi/train/pizza/1947572.jpg'),\n",
       " WindowsPath('data/pizza_steak_sushi/train/pizza/1968947.jpg'),\n",
       " WindowsPath('data/pizza_steak_sushi/train/pizza/2026009.jpg'),\n",
       " WindowsPath('data/pizza_steak_sushi/train/pizza/2121603.jpg'),\n",
       " WindowsPath('data/pizza_steak_sushi/train/pizza/2154394.jpg'),\n",
       " WindowsPath('data/pizza_steak_sushi/train/pizza/218711.jpg'),\n",
       " WindowsPath('data/pizza_steak_sushi/train/pizza/2190018.jpg'),\n",
       " WindowsPath('data/pizza_steak_sushi/train/pizza/220190.jpg'),\n",
       " WindowsPath('data/pizza_steak_sushi/train/pizza/2228322.jpg'),\n",
       " WindowsPath('data/pizza_steak_sushi/train/pizza/2285942.jpg'),\n",
       " WindowsPath('data/pizza_steak_sushi/train/pizza/2291093.jpg'),\n",
       " WindowsPath('data/pizza_steak_sushi/train/pizza/2330965.jpg'),\n",
       " WindowsPath('data/pizza_steak_sushi/train/pizza/2382016.jpg'),\n",
       " WindowsPath('data/pizza_steak_sushi/train/pizza/2426686.jpg'),\n",
       " WindowsPath('data/pizza_steak_sushi/train/pizza/2428085.jpg'),\n",
       " WindowsPath('data/pizza_steak_sushi/train/pizza/244505.jpg'),\n",
       " WindowsPath('data/pizza_steak_sushi/train/pizza/2451169.jpg'),\n",
       " WindowsPath('data/pizza_steak_sushi/train/pizza/2493954.jpg'),\n",
       " WindowsPath('data/pizza_steak_sushi/train/pizza/2569760.jpg'),\n",
       " WindowsPath('data/pizza_steak_sushi/train/pizza/2576168.jpg'),\n",
       " WindowsPath('data/pizza_steak_sushi/train/pizza/2687575.jpg'),\n",
       " WindowsPath('data/pizza_steak_sushi/train/pizza/2702825.jpg'),\n",
       " WindowsPath('data/pizza_steak_sushi/train/pizza/2760984.jpg'),\n",
       " WindowsPath('data/pizza_steak_sushi/train/pizza/2785084.jpg'),\n",
       " WindowsPath('data/pizza_steak_sushi/train/pizza/2800325.jpg'),\n",
       " WindowsPath('data/pizza_steak_sushi/train/pizza/2811032.jpg'),\n",
       " WindowsPath('data/pizza_steak_sushi/train/pizza/2821048.jpg'),\n",
       " WindowsPath('data/pizza_steak_sushi/train/pizza/2885050.jpg'),\n",
       " WindowsPath('data/pizza_steak_sushi/train/pizza/2885796.jpg'),\n",
       " WindowsPath('data/pizza_steak_sushi/train/pizza/2924941.jpg'),\n",
       " WindowsPath('data/pizza_steak_sushi/train/pizza/29417.jpg'),\n",
       " WindowsPath('data/pizza_steak_sushi/train/pizza/2992084.jpg'),\n",
       " WindowsPath('data/pizza_steak_sushi/train/pizza/300869.jpg'),\n",
       " WindowsPath('data/pizza_steak_sushi/train/pizza/3018077.jpg'),\n",
       " WindowsPath('data/pizza_steak_sushi/train/pizza/3109486.jpg'),\n",
       " WindowsPath('data/pizza_steak_sushi/train/pizza/3196721.jpg'),\n",
       " WindowsPath('data/pizza_steak_sushi/train/pizza/320570.jpg'),\n",
       " WindowsPath('data/pizza_steak_sushi/train/pizza/3269634.jpg'),\n",
       " WindowsPath('data/pizza_steak_sushi/train/pizza/3281494.jpg'),\n",
       " WindowsPath('data/pizza_steak_sushi/train/pizza/3338774.jpg'),\n",
       " WindowsPath('data/pizza_steak_sushi/train/pizza/3441394.jpg'),\n",
       " WindowsPath('data/pizza_steak_sushi/train/pizza/3505182.jpg'),\n",
       " WindowsPath('data/pizza_steak_sushi/train/pizza/3530210.jpg'),\n",
       " WindowsPath('data/pizza_steak_sushi/train/pizza/3589437.jpg'),\n",
       " WindowsPath('data/pizza_steak_sushi/train/pizza/3699992.jpg'),\n",
       " WindowsPath('data/pizza_steak_sushi/train/pizza/3821701.jpg'),\n",
       " WindowsPath('data/pizza_steak_sushi/train/pizza/38349.jpg'),\n",
       " WindowsPath('data/pizza_steak_sushi/train/pizza/3860002.jpg'),\n",
       " WindowsPath('data/pizza_steak_sushi/train/pizza/393658.jpg'),\n",
       " WindowsPath('data/pizza_steak_sushi/train/pizza/5764.jpg'),\n",
       " WindowsPath('data/pizza_steak_sushi/train/pizza/618348.jpg'),\n",
       " WindowsPath('data/pizza_steak_sushi/train/pizza/667309.jpg'),\n",
       " WindowsPath('data/pizza_steak_sushi/train/pizza/68684.jpg'),\n",
       " WindowsPath('data/pizza_steak_sushi/train/pizza/702165.jpg'),\n",
       " WindowsPath('data/pizza_steak_sushi/train/pizza/715169.jpg'),\n",
       " WindowsPath('data/pizza_steak_sushi/train/pizza/739735.jpg'),\n",
       " WindowsPath('data/pizza_steak_sushi/train/pizza/741883.jpg'),\n",
       " WindowsPath('data/pizza_steak_sushi/train/pizza/764429.jpg'),\n",
       " WindowsPath('data/pizza_steak_sushi/train/pizza/765799.jpg'),\n",
       " WindowsPath('data/pizza_steak_sushi/train/pizza/786995.jpg'),\n",
       " WindowsPath('data/pizza_steak_sushi/train/pizza/853441.jpg'),\n",
       " WindowsPath('data/pizza_steak_sushi/train/pizza/928670.jpg'),\n",
       " WindowsPath('data/pizza_steak_sushi/train/steak/100135.jpg'),\n",
       " WindowsPath('data/pizza_steak_sushi/train/steak/1225762.jpg'),\n",
       " WindowsPath('data/pizza_steak_sushi/train/steak/1257104.jpg'),\n",
       " WindowsPath('data/pizza_steak_sushi/train/steak/1264154.jpg'),\n",
       " WindowsPath('data/pizza_steak_sushi/train/steak/1382427.jpg'),\n",
       " WindowsPath('data/pizza_steak_sushi/train/steak/1413972.jpg'),\n",
       " WindowsPath('data/pizza_steak_sushi/train/steak/1598345.jpg'),\n",
       " WindowsPath('data/pizza_steak_sushi/train/steak/1615395.jpg'),\n",
       " WindowsPath('data/pizza_steak_sushi/train/steak/1621763.jpg'),\n",
       " WindowsPath('data/pizza_steak_sushi/train/steak/1624747.jpg'),\n",
       " WindowsPath('data/pizza_steak_sushi/train/steak/1647351.jpg'),\n",
       " WindowsPath('data/pizza_steak_sushi/train/steak/165639.jpg'),\n",
       " WindowsPath('data/pizza_steak_sushi/train/steak/167069.jpg'),\n",
       " WindowsPath('data/pizza_steak_sushi/train/steak/1736968.jpg'),\n",
       " WindowsPath('data/pizza_steak_sushi/train/steak/1761285.jpg'),\n",
       " WindowsPath('data/pizza_steak_sushi/train/steak/176508.jpg'),\n",
       " WindowsPath('data/pizza_steak_sushi/train/steak/1787505.jpg'),\n",
       " WindowsPath('data/pizza_steak_sushi/train/steak/1839481.jpg'),\n",
       " WindowsPath('data/pizza_steak_sushi/train/steak/1849463.jpg'),\n",
       " WindowsPath('data/pizza_steak_sushi/train/steak/1937872.jpg'),\n",
       " WindowsPath('data/pizza_steak_sushi/train/steak/1961025.jpg'),\n",
       " WindowsPath('data/pizza_steak_sushi/train/steak/1966300.jpg'),\n",
       " WindowsPath('data/pizza_steak_sushi/train/steak/1976160.jpg'),\n",
       " WindowsPath('data/pizza_steak_sushi/train/steak/2013535.jpg'),\n",
       " WindowsPath('data/pizza_steak_sushi/train/steak/2017387.jpg'),\n",
       " WindowsPath('data/pizza_steak_sushi/train/steak/2087958.jpg'),\n",
       " WindowsPath('data/pizza_steak_sushi/train/steak/2129685.jpg'),\n",
       " WindowsPath('data/pizza_steak_sushi/train/steak/214320.jpg'),\n",
       " WindowsPath('data/pizza_steak_sushi/train/steak/2163079.jpg'),\n",
       " WindowsPath('data/pizza_steak_sushi/train/steak/2222018.jpg'),\n",
       " WindowsPath('data/pizza_steak_sushi/train/steak/2254705.jpg'),\n",
       " WindowsPath('data/pizza_steak_sushi/train/steak/225990.jpg'),\n",
       " WindowsPath('data/pizza_steak_sushi/train/steak/2287136.jpg'),\n",
       " WindowsPath('data/pizza_steak_sushi/train/steak/231296.jpg'),\n",
       " WindowsPath('data/pizza_steak_sushi/train/steak/2324994.jpg'),\n",
       " WindowsPath('data/pizza_steak_sushi/train/steak/234626.jpg'),\n",
       " WindowsPath('data/pizza_steak_sushi/train/steak/239025.jpg'),\n",
       " WindowsPath('data/pizza_steak_sushi/train/steak/2561199.jpg'),\n",
       " WindowsPath('data/pizza_steak_sushi/train/steak/256592.jpg'),\n",
       " WindowsPath('data/pizza_steak_sushi/train/steak/2603058.jpg'),\n",
       " WindowsPath('data/pizza_steak_sushi/train/steak/2606444.jpg'),\n",
       " WindowsPath('data/pizza_steak_sushi/train/steak/2614189.jpg'),\n",
       " WindowsPath('data/pizza_steak_sushi/train/steak/2614649.jpg'),\n",
       " WindowsPath('data/pizza_steak_sushi/train/steak/2628106.jpg'),\n",
       " WindowsPath('data/pizza_steak_sushi/train/steak/2629750.jpg'),\n",
       " WindowsPath('data/pizza_steak_sushi/train/steak/2648423.jpg'),\n",
       " WindowsPath('data/pizza_steak_sushi/train/steak/2707522.jpg'),\n",
       " WindowsPath('data/pizza_steak_sushi/train/steak/2825100.jpg'),\n",
       " WindowsPath('data/pizza_steak_sushi/train/steak/2878151.jpg'),\n",
       " WindowsPath('data/pizza_steak_sushi/train/steak/2880035.jpg'),\n",
       " WindowsPath('data/pizza_steak_sushi/train/steak/2881783.jpg'),\n",
       " WindowsPath('data/pizza_steak_sushi/train/steak/2979061.jpg'),\n",
       " WindowsPath('data/pizza_steak_sushi/train/steak/3074367.jpg'),\n",
       " WindowsPath('data/pizza_steak_sushi/train/steak/3142045.jpg'),\n",
       " WindowsPath('data/pizza_steak_sushi/train/steak/3142674.jpg'),\n",
       " WindowsPath('data/pizza_steak_sushi/train/steak/3245622.jpg'),\n",
       " WindowsPath('data/pizza_steak_sushi/train/steak/339891.jpg'),\n",
       " WindowsPath('data/pizza_steak_sushi/train/steak/3518960.jpg'),\n",
       " WindowsPath('data/pizza_steak_sushi/train/steak/355715.jpg'),\n",
       " WindowsPath('data/pizza_steak_sushi/train/steak/3577618.jpg'),\n",
       " WindowsPath('data/pizza_steak_sushi/train/steak/3727036.jpg'),\n",
       " WindowsPath('data/pizza_steak_sushi/train/steak/3727491.jpg'),\n",
       " WindowsPath('data/pizza_steak_sushi/train/steak/3857508.jpg'),\n",
       " WindowsPath('data/pizza_steak_sushi/train/steak/421476.jpg'),\n",
       " WindowsPath('data/pizza_steak_sushi/train/steak/443210.jpg'),\n",
       " WindowsPath('data/pizza_steak_sushi/train/steak/461689.jpg'),\n",
       " WindowsPath('data/pizza_steak_sushi/train/steak/482022.jpg'),\n",
       " WindowsPath('data/pizza_steak_sushi/train/steak/560503.jpg'),\n",
       " WindowsPath('data/pizza_steak_sushi/train/steak/735441.jpg'),\n",
       " WindowsPath('data/pizza_steak_sushi/train/steak/75537.jpg'),\n",
       " WindowsPath('data/pizza_steak_sushi/train/steak/830007.jpg'),\n",
       " WindowsPath('data/pizza_steak_sushi/train/steak/914570.jpg'),\n",
       " WindowsPath('data/pizza_steak_sushi/train/steak/922752.jpg'),\n",
       " WindowsPath('data/pizza_steak_sushi/train/steak/937133.jpg'),\n",
       " WindowsPath('data/pizza_steak_sushi/train/steak/97656.jpg'),\n",
       " WindowsPath('data/pizza_steak_sushi/train/sushi/1070104.jpg'),\n",
       " WindowsPath('data/pizza_steak_sushi/train/sushi/1129338.jpg'),\n",
       " WindowsPath('data/pizza_steak_sushi/train/sushi/1138695.jpg'),\n",
       " WindowsPath('data/pizza_steak_sushi/train/sushi/1209865.jpg'),\n",
       " WindowsPath('data/pizza_steak_sushi/train/sushi/1214108.jpg'),\n",
       " WindowsPath('data/pizza_steak_sushi/train/sushi/121940.jpg'),\n",
       " WindowsPath('data/pizza_steak_sushi/train/sushi/1221830.jpg'),\n",
       " WindowsPath('data/pizza_steak_sushi/train/sushi/1232045.jpg'),\n",
       " WindowsPath('data/pizza_steak_sushi/train/sushi/1280119.jpg'),\n",
       " WindowsPath('data/pizza_steak_sushi/train/sushi/14046.jpg'),\n",
       " WindowsPath('data/pizza_steak_sushi/train/sushi/148799.jpg'),\n",
       " WindowsPath('data/pizza_steak_sushi/train/sushi/1551817.jpg'),\n",
       " WindowsPath('data/pizza_steak_sushi/train/sushi/1552504.jpg'),\n",
       " WindowsPath('data/pizza_steak_sushi/train/sushi/1571146.jpg'),\n",
       " WindowsPath('data/pizza_steak_sushi/train/sushi/1575445.jpg'),\n",
       " WindowsPath('data/pizza_steak_sushi/train/sushi/1615453.jpg'),\n",
       " WindowsPath('data/pizza_steak_sushi/train/sushi/169392.jpg'),\n",
       " WindowsPath('data/pizza_steak_sushi/train/sushi/170385.jpg'),\n",
       " WindowsPath('data/pizza_steak_sushi/train/sushi/17704.jpg'),\n",
       " WindowsPath('data/pizza_steak_sushi/train/sushi/1957449.jpg'),\n",
       " WindowsPath('data/pizza_steak_sushi/train/sushi/200025.jpg'),\n",
       " WindowsPath('data/pizza_steak_sushi/train/sushi/2004525.jpg'),\n",
       " WindowsPath('data/pizza_steak_sushi/train/sushi/2017378.jpg'),\n",
       " WindowsPath('data/pizza_steak_sushi/train/sushi/2019344.jpg'),\n",
       " WindowsPath('data/pizza_steak_sushi/train/sushi/2021381.jpg'),\n",
       " WindowsPath('data/pizza_steak_sushi/train/sushi/2021685.jpg'),\n",
       " WindowsPath('data/pizza_steak_sushi/train/sushi/2120573.jpg'),\n",
       " WindowsPath('data/pizza_steak_sushi/train/sushi/2175561.jpg'),\n",
       " WindowsPath('data/pizza_steak_sushi/train/sushi/2267190.jpg'),\n",
       " WindowsPath('data/pizza_steak_sushi/train/sushi/2323548.jpg'),\n",
       " WindowsPath('data/pizza_steak_sushi/train/sushi/2492146.jpg'),\n",
       " WindowsPath('data/pizza_steak_sushi/train/sushi/2574453.jpg'),\n",
       " WindowsPath('data/pizza_steak_sushi/train/sushi/2590819.jpg'),\n",
       " WindowsPath('data/pizza_steak_sushi/train/sushi/2641778.jpg'),\n",
       " WindowsPath('data/pizza_steak_sushi/train/sushi/2674024.jpg'),\n",
       " WindowsPath('data/pizza_steak_sushi/train/sushi/268990.jpg'),\n",
       " WindowsPath('data/pizza_steak_sushi/train/sushi/2720223.jpg'),\n",
       " WindowsPath('data/pizza_steak_sushi/train/sushi/2797464.jpg'),\n",
       " WindowsPath('data/pizza_steak_sushi/train/sushi/2813454.jpg'),\n",
       " WindowsPath('data/pizza_steak_sushi/train/sushi/2871052.jpg'),\n",
       " WindowsPath('data/pizza_steak_sushi/train/sushi/2873571.jpg'),\n",
       " WindowsPath('data/pizza_steak_sushi/train/sushi/2980779.jpg'),\n",
       " WindowsPath('data/pizza_steak_sushi/train/sushi/3004029.jpg'),\n",
       " WindowsPath('data/pizza_steak_sushi/train/sushi/307738.jpg'),\n",
       " WindowsPath('data/pizza_steak_sushi/train/sushi/3081701.jpg'),\n",
       " WindowsPath('data/pizza_steak_sushi/train/sushi/3107839.jpg'),\n",
       " WindowsPath('data/pizza_steak_sushi/train/sushi/3251688.jpg'),\n",
       " WindowsPath('data/pizza_steak_sushi/train/sushi/3353428.jpg'),\n",
       " WindowsPath('data/pizza_steak_sushi/train/sushi/3360207.jpg'),\n",
       " WindowsPath('data/pizza_steak_sushi/train/sushi/3360232.jpg'),\n",
       " WindowsPath('data/pizza_steak_sushi/train/sushi/3426958.jpg'),\n",
       " WindowsPath('data/pizza_steak_sushi/train/sushi/3579071.jpg'),\n",
       " WindowsPath('data/pizza_steak_sushi/train/sushi/3737197.jpg'),\n",
       " WindowsPath('data/pizza_steak_sushi/train/sushi/377047.jpg'),\n",
       " WindowsPath('data/pizza_steak_sushi/train/sushi/385154.jpg'),\n",
       " WindowsPath('data/pizza_steak_sushi/train/sushi/390178.jpg'),\n",
       " WindowsPath('data/pizza_steak_sushi/train/sushi/424994.jpg'),\n",
       " WindowsPath('data/pizza_steak_sushi/train/sushi/497686.jpg'),\n",
       " WindowsPath('data/pizza_steak_sushi/train/sushi/542188.jpg'),\n",
       " WindowsPath('data/pizza_steak_sushi/train/sushi/686426.jpg'),\n",
       " WindowsPath('data/pizza_steak_sushi/train/sushi/700405.jpg'),\n",
       " WindowsPath('data/pizza_steak_sushi/train/sushi/710379.jpg'),\n",
       " WindowsPath('data/pizza_steak_sushi/train/sushi/748830.jpg'),\n",
       " WindowsPath('data/pizza_steak_sushi/train/sushi/765684.jpg'),\n",
       " WindowsPath('data/pizza_steak_sushi/train/sushi/773725.jpg'),\n",
       " WindowsPath('data/pizza_steak_sushi/train/sushi/794647.jpg'),\n",
       " WindowsPath('data/pizza_steak_sushi/train/sushi/821108.jpg'),\n",
       " WindowsPath('data/pizza_steak_sushi/train/sushi/840444.jpg'),\n",
       " WindowsPath('data/pizza_steak_sushi/train/sushi/843815.jpg'),\n",
       " WindowsPath('data/pizza_steak_sushi/train/sushi/855721.jpg'),\n",
       " WindowsPath('data/pizza_steak_sushi/train/sushi/929471.jpg'),\n",
       " WindowsPath('data/pizza_steak_sushi/train/sushi/93139.jpg')]"
      ]
     },
     "execution_count": 19,
     "metadata": {},
     "output_type": "execute_result"
    }
   ],
   "source": [
    "import random\n",
    "from PIL import Image\n",
    "\n",
    "# set seed\n",
    "random.seed(42)\n",
    "\n",
    "# 1. Get all image paths\n",
    "image_path_list = list(image_path.glob(\"*/*/*.jpg\"))\n",
    "image_path_list"
   ]
  },
  {
   "cell_type": "code",
   "execution_count": null,
   "metadata": {},
   "outputs": [],
   "source": []
  }
 ],
 "metadata": {
  "kernelspec": {
   "display_name": "Python 3",
   "language": "python",
   "name": "python3"
  },
  "language_info": {
   "codemirror_mode": {
    "name": "ipython",
    "version": 3
   },
   "file_extension": ".py",
   "mimetype": "text/x-python",
   "name": "python",
   "nbconvert_exporter": "python",
   "pygments_lexer": "ipython3",
   "version": "3.11.3"
  }
 },
 "nbformat": 4,
 "nbformat_minor": 2
}
